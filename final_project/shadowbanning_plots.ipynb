{
 "cells": [
  {
   "cell_type": "code",
   "execution_count": null,
   "metadata": {},
   "outputs": [],
   "source": [
    "from typing import List, Mapping\n",
    "import pickle\n",
    "\n",
    "import numpy as np\n",
    "import matplotlib.pyplot as plt\n",
    "import networkx as nx\n",
    "\n",
    "from shadowbanning import get_graph, ShadowBanningRC, VANILLA_FILE_NAME, ERROR_FILE_NAME"
   ]
  },
  {
   "cell_type": "code",
   "execution_count": null,
   "metadata": {},
   "outputs": [],
   "source": [
    "def reform_data(agents: List[ShadowBanningRC]):\n",
    "    \"\"\"This whole thing is jank lmao\"\"\"\n",
    "    print_ = True\n",
    "    full_rslts = []\n",
    "    for agent in agents:\n",
    "        x = agent.x\n",
    "        k = len(x)\n",
    "        ids = x[0].keys()\n",
    "        ret = dict()\n",
    "        for id in ids:\n",
    "            vals = dict()\n",
    "            y = np.zeros((2, k))\n",
    "            z = np.zeros((2, k))\n",
    "            for i in range(k):\n",
    "                y[:,i] = x[i][id][0]\n",
    "                z[:,i] = x[i][id][1]\n",
    "\n",
    "            k = len(agent.gamma)\n",
    "            gamma_y = np.zeros((k,))\n",
    "            gamma_z = np.zeros((k,))\n",
    "            for i in range(k):\n",
    "                if agent.gamma[i][id] is None:\n",
    "                    gamma_y[i] = np.nan\n",
    "                    gamma_z[i] = np.nan\n",
    "                else:\n",
    "                    gamma_y[i] = agent.gamma[i][id][0].squeeze()\n",
    "                    gamma_z[i] = agent.gamma[i][id][1].squeeze()\n",
    "            vals[\"y\"] = y.T[:,1]\n",
    "            vals[\"z\"] = z.T[:,1]\n",
    "            vals[\"gamma_y\"] = gamma_y\n",
    "            vals[\"gamma_z\"] = gamma_z\n",
    "            ret[id] = vals\n",
    "        full_rslts.append(ret)\n",
    "\n",
    "    return full_rslts"
   ]
  },
  {
   "cell_type": "code",
   "execution_count": null,
   "metadata": {},
   "outputs": [],
   "source": [
    "agents = None\n",
    "with open(VANILLA_FILE_NAME, \"rb\") as f:\n",
    "    agents = pickle.load(f)\n",
    "\n",
    "data = reform_data(agents)"
   ]
  },
  {
   "cell_type": "code",
   "execution_count": null,
   "metadata": {},
   "outputs": [],
   "source": [
    "def plot_experiment(data, fname_prefix):\n",
    "    master_ratio = dict()\n",
    "    for i, datum in enumerate(data):\n",
    "        # Ratio data\n",
    "        fig, axes = plt.subplots(ncols=2, figsize=(16,3))\n",
    "        axes[0].set_xlabel(\"Iteration\")\n",
    "        axes[0].set_ylabel(\"Value\")\n",
    "        axes[1].set_xlabel(\"Iteration\")\n",
    "        axes[1].set_ylabel(\"Value\")\n",
    "        for id, val in datum.items():\n",
    "            y = val[\"y\"]\n",
    "            z = val[\"z\"]\n",
    "            axes[0].plot(y, label=f\"Agent {id} y\")\n",
    "            axes[0].plot(z, label=f\"Agent {id} z\")\n",
    "            axes[1].plot(y/z, label=f\"Agent {id} Ratio\")\n",
    "            axes[0].legend()\n",
    "            axes[1].legend()\n",
    "            axes[0].set_title(\"Y, Z\")\n",
    "            axes[1].set_title(\"Ratio\")\n",
    "\n",
    "            axes[0].set_xlabel(\"Iteration\")\n",
    "            axes[1].set_xlabel(\"Iteration\")\n",
    "\n",
    "\n",
    "            if(i+1 == id):\n",
    "                print(f\"Inserting master ratio for {id}\")\n",
    "                master_ratio[i] = y/z\n",
    "\n",
    "        fig.suptitle(f\"Agent {i+1}'s Perspective of Ratios\")\n",
    "        fig.savefig(f\"{fname_prefix}_agent_{i}_ratios.png\")\n",
    "\n",
    "        # Gammas\n",
    "        fig, ax = plt.subplots(figsize=(16,3))\n",
    "        for id, val in datum.items():\n",
    "            gamma_y = val[\"gamma_y\"]\n",
    "            gamma_z = val[\"gamma_z\"]\n",
    "            if gamma_y is None or gamma_z is None:\n",
    "                continue\n",
    "            ax.plot(gamma_y, label=f\"Agent {id} gamma for Y\")\n",
    "            ax.plot(gamma_z, label=f\"Agent {id} gamma for Z\")\n",
    "            ax.legend()\n",
    "        fig.suptitle(f\"Agent {i+1}'s Perspective of Gamma\")\n",
    "        fig.savefig(f\"{fname_prefix}_agent_{i}_gammas.png\")\n",
    "\n",
    "    plt.figure(figsize=(16,8))\n",
    "    plt.title(\"Local Agent Ratio Values\")\n",
    "    for i, datum in master_ratio.items():\n",
    "        plt.plot(datum, label=f\"Agent {i}\")\n",
    "    plt.legend()\n",
    "    plt.xlabel(\"Iteration\")\n",
    "    plt.ylabel(\"Value\")\n",
    "    plt.savefig(f\"{fname_prefix}_centralized_ratios.png\")\n",
    "\n",
    "def plot_pickle(fname, output_fname_prefix):\n",
    "    with open(fname, \"rb\") as f:\n",
    "        agents = pickle.load(f)\n",
    "    data = reform_data(agents)\n",
    "    plot_experiment(data, output_fname_prefix)"
   ]
  },
  {
   "cell_type": "code",
   "execution_count": null,
   "metadata": {},
   "outputs": [],
   "source": [
    "plot_pickle(VANILLA_FILE_NAME, \"vanilla\")"
   ]
  },
  {
   "cell_type": "code",
   "execution_count": null,
   "metadata": {},
   "outputs": [],
   "source": [
    "plot_pickle(ERROR_FILE_NAME, \"error\")"
   ]
  },
  {
   "cell_type": "code",
   "execution_count": null,
   "metadata": {},
   "outputs": [],
   "source": [
    "graph = get_graph()\n",
    "plt.figure()\n",
    "nx.draw_kamada_kawai(graph, with_labels=True)\n",
    "plt.title(\"Graph of Agent Communcations\")\n",
    "plt.savefig(\"graph.png\")"
   ]
  },
  {
   "cell_type": "code",
   "execution_count": null,
   "metadata": {},
   "outputs": [],
   "source": []
  }
 ],
 "metadata": {
  "kernelspec": {
   "display_name": "Python 3",
   "language": "python",
   "name": "python3"
  },
  "language_info": {
   "codemirror_mode": {
    "name": "ipython",
    "version": 3
   },
   "file_extension": ".py",
   "mimetype": "text/x-python",
   "name": "python",
   "nbconvert_exporter": "python",
   "pygments_lexer": "ipython3",
   "version": "3.12.3"
  }
 },
 "nbformat": 4,
 "nbformat_minor": 2
}
